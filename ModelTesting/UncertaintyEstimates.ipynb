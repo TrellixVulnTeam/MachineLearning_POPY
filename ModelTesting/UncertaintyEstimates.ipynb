{
 "cells": [
  {
   "cell_type": "code",
   "execution_count": 3,
   "outputs": [],
   "source": [
    "import numpy as np\n",
    "import matplotlib.pyplot as plt\n",
    "import pandas as pd\n",
    "import mglearn"
   ],
   "metadata": {
    "collapsed": false,
    "pycharm": {
     "name": "#%%\n",
     "is_executing": false
    }
   }
  },
  {
   "cell_type": "markdown",
   "metadata": {
    "collapsed": true,
    "pycharm": {
     "name": "#%% md\n"
    }
   },
   "source": [
    "## Uncertainty Estimates from Classifiers\n",
    "Basically is know how sure can we be with the predictions made."
   ]
  },
  {
   "cell_type": "code",
   "execution_count": 5,
   "outputs": [
    {
     "data": {
      "text/plain": "GradientBoostingClassifier(random_state=0)"
     },
     "metadata": {},
     "output_type": "execute_result",
     "execution_count": 5
    }
   ],
   "source": [
    "from sklearn.ensemble import GradientBoostingClassifier\n",
    "from sklearn.datasets import make_blobs, make_circles\n",
    "from sklearn.model_selection import train_test_split\n",
    "\n",
    "X, y = make_circles(noise=0.25, factor=0.5, random_state=1)\n",
    "#Renaming the class\n",
    "y_named = np.array(['blue', 'red'])[y]\n",
    "\n",
    "X_train, X_test, y_train_named, y_test_named, y_train, y_test = train_test_split(X, y_named, y, random_state=0)\n",
    "\n",
    "gbrt = GradientBoostingClassifier(random_state=0)\n",
    "gbrt.fit(X_train, y_train_named)"
   ],
   "metadata": {
    "collapsed": false,
    "pycharm": {
     "name": "#%%\n",
     "is_executing": false
    }
   }
  },
  {
   "cell_type": "markdown",
   "source": [
    "### Decision Function\n",
    "The decision function returns a floating number for each sample"
   ],
   "metadata": {
    "collapsed": false,
    "pycharm": {
     "name": "#%% md\n"
    }
   }
  },
  {
   "cell_type": "code",
   "execution_count": 9,
   "outputs": [
    {
     "name": "stdout",
     "text": [
      "X_test shape: (25, 2)\nDecision function shape: (25,)\n"
     ],
     "output_type": "stream"
    }
   ],
   "source": [
    "print(\"X_test shape: {}\".format(X_test.shape))\n",
    "print(\"Decision function shape: {}\".format(gbrt.decision_function(X_test).shape))"
   ],
   "metadata": {
    "collapsed": false,
    "pycharm": {
     "name": "#%%\n",
     "is_executing": false
    }
   }
  },
  {
   "cell_type": "markdown",
   "source": [
    "The value shown says how the model believes a data point belongs to the \"positive\" class.\n",
    "Negative values indicates the preference for the \"negative\" class"
   ],
   "metadata": {
    "collapsed": false,
    "pycharm": {
     "name": "#%% md\n"
    }
   }
  },
  {
   "cell_type": "code",
   "execution_count": 14,
   "outputs": [
    {
     "name": "stdout",
     "text": [
      "Decision function:\n[ 4.13592603 -1.70169917 -3.95106099 -3.62609552  4.28986642]\n"
     ],
     "output_type": "stream"
    }
   ],
   "source": [
    "print(\"Decision function:\\n{}\".format(gbrt.decision_function(X_test)[:5]))"
   ],
   "metadata": {
    "collapsed": false,
    "pycharm": {
     "name": "#%%\n",
     "is_executing": false
    }
   }
  },
  {
   "cell_type": "markdown",
   "source": [
    "Changing the values to a prediction with the following lines"
   ],
   "metadata": {
    "collapsed": false,
    "pycharm": {
     "name": "#%% md\n"
    }
   }
  },
  {
   "cell_type": "code",
   "execution_count": 16,
   "outputs": [
    {
     "name": "stdout",
     "text": [
      "Tresholded decision function: \n [ True False False False  True  True False  True  True  True False  True\n  True False  True False False False  True  True  True  True  True False\n False]\nPredictions:\n ['red' 'blue' 'blue' 'blue' 'red' 'red' 'blue' 'red' 'red' 'red' 'blue'\n 'red' 'red' 'blue' 'red' 'blue' 'blue' 'blue' 'red' 'red' 'red' 'red'\n 'red' 'blue' 'blue']\n"
     ],
     "output_type": "stream"
    }
   ],
   "source": [
    "print(\"Tresholded decision function: \\n {}\".format(gbrt.decision_function(X_test)>0))\n",
    "print(\"Predictions:\\n {}\".format(gbrt.predict(X_test)))"
   ],
   "metadata": {
    "collapsed": false,
    "pycharm": {
     "name": "#%%\n",
     "is_executing": false
    }
   }
  },
  {
   "cell_type": "markdown",
   "source": [
    "### Predicting Probabilities\n",
    "The output of this function is a probability for each class"
   ],
   "metadata": {
    "collapsed": false,
    "pycharm": {
     "name": "#%% md\n"
    }
   }
  },
  {
   "cell_type": "code",
   "execution_count": 17,
   "outputs": [
    {
     "name": "stdout",
     "text": [
      "Shape of probabilities: (25, 2)\n"
     ],
     "output_type": "stream"
    }
   ],
   "source": [
    "print(\"Shape of probabilities: {}\".format(gbrt.predict_proba(X_test).shape))"
   ],
   "metadata": {
    "collapsed": false,
    "pycharm": {
     "name": "#%%\n",
     "is_executing": false
    }
   }
  },
  {
   "cell_type": "markdown",
   "source": [
    "This gives an output with two columns, the first for the first class. Always sum up to 1 (both columns)"
   ],
   "metadata": {
    "collapsed": false,
    "pycharm": {
     "name": "#%% md\n"
    }
   }
  },
  {
   "cell_type": "code",
   "execution_count": 18,
   "outputs": [
    {
     "name": "stdout",
     "text": [
      "Predict probabilities: \n[[0.01573626 0.98426374]\n [0.84575653 0.15424347]\n [0.98112869 0.01887131]\n [0.97407033 0.02592967]\n [0.01352142 0.98647858]]\n"
     ],
     "output_type": "stream"
    }
   ],
   "source": [
    "print(\"Predict probabilities: \\n{}\".format(gbrt.predict_proba((X_test[:5])))) "
   ],
   "metadata": {
    "collapsed": false,
    "pycharm": {
     "name": "#%%\n",
     "is_executing": false
    }
   }
  },
  {
   "cell_type": "markdown",
   "source": [
    "## Uncertainty in Multiclass Classification"
   ],
   "metadata": {
    "collapsed": false,
    "pycharm": {
     "name": "#%% md\n"
    }
   }
  },
  {
   "cell_type": "code",
   "execution_count": 21,
   "outputs": [
    {
     "name": "stdout",
     "text": [
      "Decision function shape: (38, 3)\nDecision function: \n[[-1.995715    0.04758267 -1.92720695]\n [ 0.06146394 -1.90755736 -1.92793758]\n [-1.99058203 -1.87637861  0.09686725]\n [-1.995715    0.04758267 -1.92720695]\n [-1.99730159 -0.13469108 -1.20341483]]\n"
     ],
     "output_type": "stream"
    }
   ],
   "source": [
    "from sklearn.datasets import load_iris\n",
    "iris = load_iris()\n",
    "\n",
    "X_train, X_test, y_train, y_test = train_test_split(iris.data, iris.target, random_state=42)\n",
    "\n",
    "gbrt = GradientBoostingClassifier(learning_rate=0.01, random_state=0)\n",
    "gbrt.fit(X_train, y_train)\n",
    "\n",
    "print(\"Decision function shape: {}\".format(gbrt.decision_function(X_test).shape))\n",
    "print(\"Decision function: \\n{}\".format(gbrt.decision_function(X_test)[:5,:]))"
   ],
   "metadata": {
    "collapsed": false,
    "pycharm": {
     "name": "#%%\n",
     "is_executing": false
    }
   }
  },
  {
   "cell_type": "markdown",
   "source": [
    "In this output the prediction comes from the bigger value"
   ],
   "metadata": {
    "collapsed": false,
    "pycharm": {
     "name": "#%% md\n"
    }
   }
  },
  {
   "cell_type": "code",
   "execution_count": 22,
   "outputs": [
    {
     "name": "stdout",
     "text": [
      "Argmax of decision function:\n[1 0 2 1 1 0 1 2 1 1 2 0 0 0 0 1 2 1 1 2 0 2 0 2 2 2 2 2 0 0 0 0 1 0 0 2 1\n 0]\nPredictions:\n[1 0 2 1 1 0 1 2 1 1 2 0 0 0 0 1 2 1 1 2 0 2 0 2 2 2 2 2 0 0 0 0 1 0 0 2 1\n 0]\n"
     ],
     "output_type": "stream"
    }
   ],
   "source": [
    "print(\"Argmax of decision function:\\n{}\".format(np.argmax(gbrt.decision_function(X_test), axis=1)))\n",
    "print(\"Predictions:\\n{}\".format(gbrt.predict(X_test)))"
   ],
   "metadata": {
    "collapsed": false,
    "pycharm": {
     "name": "#%%\n",
     "is_executing": false
    }
   }
  },
  {
   "cell_type": "code",
   "execution_count": 24,
   "outputs": [
    {
     "name": "stdout",
     "text": [
      "Predicted probabilities:\n[[0.10217718 0.78840034 0.10942248]\n [0.78347147 0.10936745 0.10716108]\n [0.09818072 0.11005864 0.79176065]\n [0.10217718 0.78840034 0.10942248]\n [0.10360005 0.66723901 0.22916094]]\n"
     ],
     "output_type": "stream"
    }
   ],
   "source": [
    "#preditc_proba functions output\n",
    "print(\"Predicted probabilities:\\n{}\".format(gbrt.predict_proba(X_test)[:5]))"
   ],
   "metadata": {
    "collapsed": false,
    "pycharm": {
     "name": "#%%\n",
     "is_executing": false
    }
   }
  },
  {
   "cell_type": "code",
   "execution_count": 25,
   "outputs": [
    {
     "name": "stdout",
     "text": [
      "Argmax of predicted probabilities:\n[1 0 2 1 1 0 1 2 1 1 2 0 0 0 0 1 2 1 1 2 0 2 0 2 2 2 2 2 0 0 0 0 1 0 0 2 1\n 0]\nPredictions:\n[1 0 2 1 1 0 1 2 1 1 2 0 0 0 0 1 2 1 1 2 0 2 0 2 2 2 2 2 0 0 0 0 1 0 0 2 1\n 0]\n"
     ],
     "output_type": "stream"
    }
   ],
   "source": [
    "print(\"Argmax of predicted probabilities:\\n{}\".format(np.argmax(gbrt.predict_proba(X_test), axis=1)))\n",
    "print(\"Predictions:\\n{}\".format(gbrt.predict(X_test)))"
   ],
   "metadata": {
    "collapsed": false,
    "pycharm": {
     "name": "#%%\n",
     "is_executing": false
    }
   }
  }
 ],
 "metadata": {
  "kernelspec": {
   "display_name": "Python 3",
   "language": "python",
   "name": "python3"
  },
  "language_info": {
   "codemirror_mode": {
    "name": "ipython",
    "version": 2
   },
   "file_extension": ".py",
   "mimetype": "text/x-python",
   "name": "python",
   "nbconvert_exporter": "python",
   "pygments_lexer": "ipython2",
   "version": "2.7.6"
  },
  "pycharm": {
   "stem_cell": {
    "cell_type": "raw",
    "source": [],
    "metadata": {
     "collapsed": false
    }
   }
  }
 },
 "nbformat": 4,
 "nbformat_minor": 0
}